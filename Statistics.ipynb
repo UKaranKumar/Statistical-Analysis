{
 "cells": [
  {
   "cell_type": "code",
   "execution_count": 1,
   "id": "3d836077",
   "metadata": {},
   "outputs": [],
   "source": [
    "import numpy as np\n",
    "import pandas as pd\n",
    "import scipy.stats as stats\n",
    "import statistics\n",
    "import matplotlib.pyplot as plt\n",
    "import seaborn as sns\n",
    "import warnings\n",
    "warnings.filterwarnings('ignore')\n",
    "from statsmodels.stats import weightstats as stests\n",
    "\n",
    "plt.rcParams['figure.figsize']=[15,6]"
   ]
  },
  {
   "cell_type": "code",
   "execution_count": 2,
   "id": "cfd55fd3",
   "metadata": {},
   "outputs": [],
   "source": [
    "age = np.array([42, 44, 62, 35,20,30, 56, 20, 23, 41,55, 22, 31, 27, 66,21, 18, 24, 42, 25,32, 50, 31, 26, 36,39, 40, 18, 36, 22])"
   ]
  },
  {
   "cell_type": "markdown",
   "id": "0f8f2708",
   "metadata": {},
   "source": [
    "### Q1. Compute the mean, median and the mode of the data"
   ]
  },
  {
   "cell_type": "code",
   "execution_count": 3,
   "id": "26f2595b",
   "metadata": {},
   "outputs": [
    {
     "name": "stdout",
     "output_type": "stream",
     "text": [
      "The mean of the data: 34.47\n",
      "The median of the data: 31.5\n",
      "The mode of the data: 42\n"
     ]
    }
   ],
   "source": [
    "avg = np.mean(age)\n",
    "median = np.median(age)\n",
    "mod = statistics.mode(age)\n",
    "\n",
    "print(f'The mean of the data: {round(avg,2)}')\n",
    "print(f'The median of the data: {median}')\n",
    "print(f'The mode of the data: {mod}')"
   ]
  },
  {
   "cell_type": "markdown",
   "id": "c4400749",
   "metadata": {},
   "source": [
    "### Q2. Compute the range , variance and standard deviation of customer ages"
   ]
  },
  {
   "cell_type": "code",
   "execution_count": 4,
   "id": "8ceb1644",
   "metadata": {},
   "outputs": [
    {
     "name": "stdout",
     "output_type": "stream",
     "text": [
      "The range of the data: 48\n",
      "The variance of the data: 177.36\n",
      "The standard variance of the data: 13.32\n"
     ]
    }
   ],
   "source": [
    "ran = age.max()-age.min()\n",
    "std = np.std(age,ddof=1)\n",
    "var = std**2\n",
    "\n",
    "print(f'The range of the data: {ran}')\n",
    "print(f'The variance of the data: {round(var,2)}')\n",
    "print(f'The standard variance of the data: {round(std,2)}')"
   ]
  },
  {
   "cell_type": "markdown",
   "id": "0b92ff94",
   "metadata": {},
   "source": [
    "### Q3. Find the mean deviation for the data"
   ]
  },
  {
   "cell_type": "markdown",
   "id": "350a4287",
   "metadata": {},
   "source": [
    "Mean Devation  is the sum of absolute value of difference of datapoint with mean and divided by number of observations"
   ]
  },
  {
   "cell_type": "code",
   "execution_count": 5,
   "id": "ea56e878",
   "metadata": {},
   "outputs": [
    {
     "name": "stdout",
     "output_type": "stream",
     "text": [
      "The mean deviation of the data is: 10.76\n"
     ]
    }
   ],
   "source": [
    "num = sum(abs(age-avg))\n",
    "denom = len(age)\n",
    "Mean_deviation = num/denom\n",
    "\n",
    "print(f'The mean deviation of the data is: {round(Mean_deviation,2)}')"
   ]
  },
  {
   "cell_type": "markdown",
   "id": "799f4411",
   "metadata": {},
   "source": [
    "### Q4. Calculate the Pearson coefficient of skewness and comment on the skewness of the data"
   ]
  },
  {
   "cell_type": "markdown",
   "id": "ea4e7bbb",
   "metadata": {},
   "source": [
    "Pearson formula for calculation of skewness coefficient is 3 times difference between mean and median and divided by standard deviation. "
   ]
  },
  {
   "cell_type": "code",
   "execution_count": 6,
   "id": "cab070dc",
   "metadata": {},
   "outputs": [
    {
     "name": "stdout",
     "output_type": "stream",
     "text": [
      "The Coefficient of Skewness is: 0.67\n"
     ]
    }
   ],
   "source": [
    "num = 3*(avg-median)\n",
    "denom = std\n",
    "skewness = num/denom\n",
    "\n",
    "print(f'The Coefficient of Skewness is: {round(skewness,2)}')"
   ]
  },
  {
   "cell_type": "markdown",
   "id": "bb317afb",
   "metadata": {},
   "source": [
    "As the skewness is greater than 0. We say that the data is positively skewed."
   ]
  },
  {
   "cell_type": "markdown",
   "id": "d3ee7b06",
   "metadata": {},
   "source": [
    "### Q5. Count the number of data values that fall within two standard deviations of the mean. Compare this with the answer from Chebyshev’s Theorem."
   ]
  },
  {
   "cell_type": "code",
   "execution_count": 7,
   "id": "d20e2feb",
   "metadata": {},
   "outputs": [
    {
     "data": {
      "text/plain": [
       "array([ 0.56566358,  0.71583975,  2.0674253 ,  0.04004698, -1.08627431,\n",
       "       -0.33539345,  1.61689678, -1.08627431, -0.86101005,  0.4905755 ,\n",
       "        1.5418087 , -0.93609814, -0.26030536, -0.56065771,  2.36777764,\n",
       "       -1.01118622, -1.23645048, -0.78592197,  0.56566358, -0.71083388,\n",
       "       -0.18521728,  1.16636827, -0.26030536, -0.63574579,  0.11513507,\n",
       "        0.34039932,  0.41548741, -1.23645048,  0.11513507, -0.93609814])"
      ]
     },
     "execution_count": 7,
     "metadata": {},
     "output_type": "execute_result"
    }
   ],
   "source": [
    "num = age-avg\n",
    "denom = std\n",
    "z_score = num/denom\n",
    "z_score"
   ]
  },
  {
   "cell_type": "code",
   "execution_count": 8,
   "id": "0e7342e4",
   "metadata": {},
   "outputs": [],
   "source": [
    "two_std = []\n",
    "for i in z_score:\n",
    "    if i > -2 and i < 2:\n",
    "        two_std.append(i)\n",
    "    else:\n",
    "        continue"
   ]
  },
  {
   "cell_type": "code",
   "execution_count": 9,
   "id": "7da0b360",
   "metadata": {},
   "outputs": [
    {
     "data": {
      "text/plain": [
       "93"
      ]
     },
     "execution_count": 9,
     "metadata": {},
     "output_type": "execute_result"
    }
   ],
   "source": [
    "round((len(two_std)/len(age))*100)"
   ]
  },
  {
   "cell_type": "raw",
   "id": "59dc2577",
   "metadata": {},
   "source": [
    "Our 93% of the data lies in the 2 standard deviation. According to the Chebyshev's Theorem 95% of the data lies between two standard deviations."
   ]
  },
  {
   "cell_type": "markdown",
   "id": "0ee93c46",
   "metadata": {},
   "source": [
    "### Q6. Find the three quartiles and the interquartile range (IQR)"
   ]
  },
  {
   "cell_type": "code",
   "execution_count": 10,
   "id": "4806d59c",
   "metadata": {},
   "outputs": [
    {
     "name": "stdout",
     "output_type": "stream",
     "text": [
      "First Quantile: 23.25\n",
      "Second Quantile: 31.5\n",
      "Third Quantile: 41.75\n",
      "Interquantile Range: 18.5\n"
     ]
    }
   ],
   "source": [
    "q1 = np.quantile(age,0.25)\n",
    "q2 = np.quantile(age,0.50)\n",
    "q3 = np.quantile(age,0.75)\n",
    "iqr = q3-q1\n",
    "\n",
    "print('First Quantile:',q1)\n",
    "print('Second Quantile:',q2)\n",
    "print('Third Quantile:',q3)\n",
    "print('Interquantile Range:',iqr)"
   ]
  },
  {
   "cell_type": "markdown",
   "id": "3a0163ec",
   "metadata": {},
   "source": [
    "### Q7. Are there any outliers in the data set ?"
   ]
  },
  {
   "cell_type": "code",
   "execution_count": 11,
   "id": "601a6073",
   "metadata": {},
   "outputs": [],
   "source": [
    "upper = q3+1.5*iqr\n",
    "lower = q1-1.5*iqr\n",
    "\n",
    "outliers = []\n",
    "for i in age:\n",
    "    if i>upper or i<lower:\n",
    "        outliers.append(i)\n",
    "    else:\n",
    "        continue"
   ]
  },
  {
   "cell_type": "code",
   "execution_count": 12,
   "id": "3a4c8cba",
   "metadata": {},
   "outputs": [
    {
     "data": {
      "text/plain": [
       "[]"
      ]
     },
     "execution_count": 12,
     "metadata": {},
     "output_type": "execute_result"
    }
   ],
   "source": [
    "outliers"
   ]
  },
  {
   "cell_type": "markdown",
   "id": "19743b7d",
   "metadata": {},
   "source": [
    "As the outliers list is empty. It means there are no outliers in the data."
   ]
  },
  {
   "cell_type": "markdown",
   "id": "cc469852",
   "metadata": {},
   "source": [
    "### Q8. Draw a boxplot of the dataset to confirm ."
   ]
  },
  {
   "cell_type": "code",
   "execution_count": 13,
   "id": "b49f2285",
   "metadata": {},
   "outputs": [
    {
     "data": {
      "image/png": "[encoded data removed]",
      "text/plain": [
       "<Figure size 1080x432 with 1 Axes>"
      ]
     },
     "metadata": {
      "needs_background": "light"
     },
     "output_type": "display_data"
    }
   ],
   "source": [
    "sns.boxplot(age)\n",
    "plt.show()"
   ]
  },
  {
   "cell_type": "markdown",
   "id": "490aa45f",
   "metadata": {},
   "source": [
    "There are no outliers"
   ]
  },
  {
   "cell_type": "markdown",
   "id": "64f16da9",
   "metadata": {},
   "source": [
    "### Q9. Find the percentile rank of the datapoint 50."
   ]
  },
  {
   "cell_type": "code",
   "execution_count": 14,
   "id": "aa9a6071",
   "metadata": {},
   "outputs": [
    {
     "data": {
      "text/html": [
       "<div>\n",
       "<style scoped>\n",
       "    .dataframe tbody tr th:only-of-type {\n",
       "        vertical-align: middle;\n",
       "    }\n",
       "\n",
       "    .dataframe tbody tr th {\n",
       "        vertical-align: top;\n",
       "    }\n",
       "\n",
       "    .dataframe thead th {\n",
       "        text-align: right;\n",
       "    }\n",
       "</style>\n",
       "<table border=\"1\" class=\"dataframe\">\n",
       "  <thead>\n",
       "    <tr style=\"text-align: right;\">\n",
       "      <th></th>\n",
       "      <th>Age</th>\n",
       "      <th>Percentile_Rank</th>\n",
       "    </tr>\n",
       "  </thead>\n",
       "  <tbody>\n",
       "    <tr>\n",
       "      <th>21</th>\n",
       "      <td>50</td>\n",
       "      <td>0.866667</td>\n",
       "    </tr>\n",
       "  </tbody>\n",
       "</table>\n",
       "</div>"
      ],
      "text/plain": [
       "    Age  Percentile_Rank\n",
       "21   50         0.866667"
      ]
     },
     "execution_count": 14,
     "metadata": {},
     "output_type": "execute_result"
    }
   ],
   "source": [
    "age_df = pd.DataFrame(age,columns = ['Age'])\n",
    "age_df['Percentile_Rank'] = age_df['Age'].rank(pct=True)\n",
    "age_df[age_df['Age']==50]"
   ]
  },
  {
   "cell_type": "markdown",
   "id": "7e00125f",
   "metadata": {},
   "source": [
    "Percentile Rank of 50 is 0.86667"
   ]
  },
  {
   "cell_type": "markdown",
   "id": "3d3fa0db",
   "metadata": {},
   "source": [
    "### Q10. What is the probability that a person ordering an EV scooter is above 50 years old?"
   ]
  },
  {
   "cell_type": "code",
   "execution_count": 15,
   "id": "742ad637",
   "metadata": {},
   "outputs": [
    {
     "name": "stdout",
     "output_type": "stream",
     "text": [
      "The probability that a person ordering an EV scooter is above 50 years old: 0.13\n"
     ]
    }
   ],
   "source": [
    "prob = len(age_df[age_df['Age']>50])/len(age_df)\n",
    "\n",
    "print('The probability that a person ordering an EV scooter is above 50 years old:',round(prob,2))"
   ]
  },
  {
   "cell_type": "markdown",
   "id": "9ec129d7",
   "metadata": {},
   "source": [
    "### Q11. Create a frequency distribution for the data and visualize it appropriately"
   ]
  },
  {
   "cell_type": "code",
   "execution_count": 16,
   "id": "0a79cbce",
   "metadata": {},
   "outputs": [
    {
     "data": {
      "image/png": "[encoded data removed]",
      "text/plain": [
       "<Figure size 1080x432 with 1 Axes>"
      ]
     },
     "metadata": {
      "needs_background": "light"
     },
     "output_type": "display_data"
    }
   ],
   "source": [
    "sns.histplot(age,cumulative=True)\n",
    "plt.show()"
   ]
  },
  {
   "cell_type": "markdown",
   "id": "7b9ce2de",
   "metadata": {},
   "source": [
    "### Q12. Create a probability distribution of the data and visualize it appropriately."
   ]
  },
  {
   "cell_type": "code",
   "execution_count": 17,
   "id": "90ae7f21",
   "metadata": {},
   "outputs": [
    {
     "data": {
      "image/png": "[encoded data removed]",
      "text/plain": [
       "<Figure size 1080x432 with 1 Axes>"
      ]
     },
     "metadata": {
      "needs_background": "light"
     },
     "output_type": "display_data"
    }
   ],
   "source": [
    "sns.kdeplot(age)\n",
    "plt.show()"
   ]
  },
  {
   "cell_type": "markdown",
   "id": "d84203a1",
   "metadata": {},
   "source": [
    "### Q13. What is the shape of the distribution of this dataset? Create an appropriate graph to determine that. Take 100 random samples with replacement from this dataset of size 5 each. Create a sampling distribution of the mean age of customers. Compare with other sampling distributions of sample size 10, 15, 20, 25, 30. State your observations. Does it corroborate the Central Limit Theorem?"
   ]
  },
  {
   "cell_type": "markdown",
   "id": "9bbb8914",
   "metadata": {},
   "source": [
    "The data is right skewed. "
   ]
  },
  {
   "cell_type": "code",
   "execution_count": 18,
   "id": "0a5e5ce9",
   "metadata": {
    "scrolled": false
   },
   "outputs": [
    {
     "data": {
      "image/png": "[encoded data removed]",
      "text/plain": [
       "<Figure size 1080x432 with 1 Axes>"
      ]
     },
     "metadata": {
      "needs_background": "light"
     },
     "output_type": "display_data"
    }
   ],
   "source": [
    "# for sample size 5\n",
    "np.random.seed(1)\n",
    "mean = []\n",
    "\n",
    "for i in range(100):\n",
    "    x = np.mean(np.random.choice(age,5))\n",
    "    mean.append(x)\n",
    "    \n",
    "sns.distplot(mean)\n",
    "plt.show()"
   ]
  },
  {
   "cell_type": "code",
   "execution_count": 19,
   "id": "fc50bde2",
   "metadata": {},
   "outputs": [
    {
     "data": {
      "image/png": "[encoded data removed]",
      "text/plain": [
       "<Figure size 1080x432 with 1 Axes>"
      ]
     },
     "metadata": {
      "needs_background": "light"
     },
     "output_type": "display_data"
    }
   ],
   "source": [
    "# for sample size 10\n",
    "np.random.seed(1)\n",
    "mean = []\n",
    "\n",
    "for i in range(100):\n",
    "    x = np.mean(np.random.choice(age,10))\n",
    "    mean.append(x)\n",
    "    \n",
    "sns.distplot(mean)\n",
    "plt.show()"
   ]
  },
  {
   "cell_type": "code",
   "execution_count": 20,
   "id": "730ed579",
   "metadata": {},
   "outputs": [
    {
     "data": {
      "image/png": "[encoded data removed]",
      "text/plain": [
       "<Figure size 1080x432 with 1 Axes>"
      ]
     },
     "metadata": {
      "needs_background": "light"
     },
     "output_type": "display_data"
    }
   ],
   "source": [
    "# for sample size 15\n",
    "np.random.seed(1)\n",
    "mean = []\n",
    "\n",
    "for i in range(100):\n",
    "    x = np.mean(np.random.choice(age,15))\n",
    "    mean.append(x)\n",
    "    \n",
    "sns.distplot(mean)\n",
    "plt.show()"
   ]
  },
  {
   "cell_type": "code",
   "execution_count": 21,
   "id": "1f79ac85",
   "metadata": {},
   "outputs": [
    {
     "data": {
      "image/png": "[encoded data removed]",
      "text/plain": [
       "<Figure size 1080x432 with 1 Axes>"
      ]
     },
     "metadata": {
      "needs_background": "light"
     },
     "output_type": "display_data"
    }
   ],
   "source": [
    "# for sample size 20\n",
    "np.random.seed(1)\n",
    "mean = []\n",
    "\n",
    "for i in range(100):\n",
    "    x = np.mean(np.random.choice(age,20))\n",
    "    mean.append(x)\n",
    "    \n",
    "sns.distplot(mean)\n",
    "plt.show()"
   ]
  },
  {
   "cell_type": "code",
   "execution_count": 22,
   "id": "3a47b8f5",
   "metadata": {},
   "outputs": [
    {
     "data": {
      "image/png": "[encoded data removed]",
      "text/plain": [
       "<Figure size 1080x432 with 1 Axes>"
      ]
     },
     "metadata": {
      "needs_background": "light"
     },
     "output_type": "display_data"
    }
   ],
   "source": [
    "# for sample size 25\n",
    "np.random.seed(1)\n",
    "mean = []\n",
    "\n",
    "for i in range(100):\n",
    "    x = np.mean(np.random.choice(age,25))\n",
    "    mean.append(x)\n",
    "    \n",
    "sns.distplot(mean)\n",
    "plt.show()"
   ]
  },
  {
   "cell_type": "code",
   "execution_count": 23,
   "id": "a79589c5",
   "metadata": {},
   "outputs": [
    {
     "data": {
      "image/png": "[encoded data removed]",
      "text/plain": [
       "<Figure size 1080x432 with 1 Axes>"
      ]
     },
     "metadata": {
      "needs_background": "light"
     },
     "output_type": "display_data"
    }
   ],
   "source": [
    "# for sample size 30\n",
    "np.random.seed(1)\n",
    "mean = []\n",
    "\n",
    "for i in range(100):\n",
    "    x = np.mean(np.random.choice(age,30))\n",
    "    mean.append(x)\n",
    "    \n",
    "sns.distplot(mean)\n",
    "plt.show()"
   ]
  },
  {
   "cell_type": "markdown",
   "id": "4cb9eca5",
   "metadata": {},
   "source": [
    "### Q14. Treat this dataset as a binomial distribution where p is the probability that a person ordering an EV is above 50 years age. What is the probability that out of a random sample of 10 buyers exactly 6 are above 50 years of age?"
   ]
  },
  {
   "cell_type": "code",
   "execution_count": 24,
   "id": "3e31474f",
   "metadata": {},
   "outputs": [
    {
     "name": "stdout",
     "output_type": "stream",
     "text": [
      "The probability that out of a random sample of 10 buyers exactly 6 are above 50 years of age is: 0.25\n"
     ]
    }
   ],
   "source": [
    "p = 6/10\n",
    "n = 10\n",
    "x = 6\n",
    "\n",
    "prob = stats.binom.pmf(x,n,p)\n",
    "print('The probability that out of a random sample of 10 buyers exactly 6 are above 50 years of age is:', round(prob,2))"
   ]
  },
  {
   "cell_type": "markdown",
   "id": "4fa2ea62",
   "metadata": {},
   "source": [
    "### Q15. A study claims that 10% of all customers for an EV scooter are above 50 years of age. Using the Normal approximation of a Binomial distribution, find the probability that in a random sample of 300 prospective customers exactly 25 will be above 50 years of age. [ Note that the normal distribution can be used to approximate a binomial distribution if np>=5 and nq>=5 with the following correction for continuity P(X=z) = P(z-0.5 < X < z+0.5 ) ]"
   ]
  },
  {
   "cell_type": "code",
   "execution_count": 55,
   "id": "7e721710",
   "metadata": {},
   "outputs": [
    {
     "data": {
      "text/plain": [
       "0.14491935880375412"
      ]
     },
     "execution_count": 55,
     "metadata": {},
     "output_type": "execute_result"
    }
   ],
   "source": [
    "n = 300\n",
    "p = 0.1\n",
    "q=1-p\n",
    "prob1 = stats.norm.cdf(24.5,loc=n*p,scale=np.sqrt(n*p*q))\n",
    "prob1"
   ]
  },
  {
   "cell_type": "code",
   "execution_count": 56,
   "id": "dfaab938",
   "metadata": {},
   "outputs": [
    {
     "data": {
      "text/plain": [
       "0.16796190657586785"
      ]
     },
     "execution_count": 56,
     "metadata": {},
     "output_type": "execute_result"
    }
   ],
   "source": [
    "prob2 = stats.norm.cdf(25,loc=n*p,scale=np.sqrt(n*p*q))\n",
    "prob2"
   ]
  },
  {
   "cell_type": "code",
   "execution_count": 57,
   "id": "e1d9f444",
   "metadata": {
    "scrolled": true
   },
   "outputs": [
    {
     "data": {
      "text/plain": [
       "0.19323811538561636"
      ]
     },
     "execution_count": 57,
     "metadata": {},
     "output_type": "execute_result"
    }
   ],
   "source": [
    "prob3 = stats.norm.cdf(25.5,loc=n*p,scale=np.sqrt(n*p*q))\n",
    "prob3"
   ]
  },
  {
   "cell_type": "markdown",
   "id": "b05aae28",
   "metadata": {},
   "source": [
    "### Q16. Compute a 95% Confidence Interval for the true mean age of the population of EV scooter buyers for the dataset using appropriate distribution.( State reasons as to why did you use a z or t distribution)"
   ]
  },
  {
   "cell_type": "code",
   "execution_count": 28,
   "id": "b7ee3ef2",
   "metadata": {},
   "outputs": [
    {
     "name": "stdout",
     "output_type": "stream",
     "text": [
      "The 95% Confidence Interval for the mean is: [29.7, 39.23]\n"
     ]
    }
   ],
   "source": [
    "# As the length of the dataset is 30 we will use z distribution.\n",
    "# Confidence Interval = point estimate +/- z_score * std error\n",
    "c = 0.95\n",
    "alpha = 1-c\n",
    "avg = np.mean(age)\n",
    "std = np.std(age,ddof=1)\n",
    "n = len(age)\n",
    "z_score = stats.norm.isf(alpha/2)\n",
    "\n",
    "upper_limit = avg + z_score * (std/np.sqrt(n))\n",
    "lower_limit = avg - z_score * (std/np.sqrt(n))\n",
    "\n",
    "print('The 95% Confidence Interval for the mean is:',[round(lower_limit,2),round(upper_limit,2)])"
   ]
  },
  {
   "cell_type": "code",
   "execution_count": 29,
   "id": "0cf0441c",
   "metadata": {},
   "outputs": [
    {
     "name": "stdout",
     "output_type": "stream",
     "text": [
      "The 95% Confidence Interval for the mean is: (29.70107936877694, 39.23225396455639)\n"
     ]
    }
   ],
   "source": [
    "print('The 95% Confidence Interval for the mean is:',stats.norm.interval(0.95,loc = avg, scale = std/np.sqrt(n)))"
   ]
  },
  {
   "cell_type": "markdown",
   "id": "99f82bfa",
   "metadata": {},
   "source": [
    "### Q17. A data scientist wants to estimate with 95% confidence the proportion of people who own an EV in the population. A recent study showed that 20% of people interviewed had an EV. The data scientist wants to be accurate within 2% of the true proportion. Find the minimum sample size necessary"
   ]
  },
  {
   "cell_type": "code",
   "execution_count": 30,
   "id": "245f56ce",
   "metadata": {},
   "outputs": [
    {
     "data": {
      "text/plain": [
       "1537"
      ]
     },
     "execution_count": 30,
     "metadata": {},
     "output_type": "execute_result"
    }
   ],
   "source": [
    "p = 0.20\n",
    "q = 1-p\n",
    "C = 0.95\n",
    "alpha = 1-C\n",
    "z_score = stats.norm.isf(alpha/2)\n",
    "n = (z_score*(np.sqrt(p*q)/0.02))**2\n",
    "round(n)"
   ]
  },
  {
   "cell_type": "markdown",
   "id": "33ee5775",
   "metadata": {},
   "source": [
    "\n",
    "\n",
    "\n",
    "### Q18. The same data scientist wants to estimate the proportion of executives who own an EV. She wants to be 90% confident and accurate within 5% of true proportion. Find the minimum sample size necessary."
   ]
  },
  {
   "cell_type": "code",
   "execution_count": 31,
   "id": "e150ee5b",
   "metadata": {},
   "outputs": [
    {
     "data": {
      "text/plain": [
       "173"
      ]
     },
     "execution_count": 31,
     "metadata": {},
     "output_type": "execute_result"
    }
   ],
   "source": [
    "C = 0.90\n",
    "alpha = 1-C\n",
    "z_score = stats.norm.isf(alpha/2)\n",
    "n = (z_score*(np.sqrt(p*q)/0.05))**2\n",
    "round(n)"
   ]
  },
  {
   "cell_type": "markdown",
   "id": "4adbdac3",
   "metadata": {},
   "source": [
    "### Q19. A researcher claims that currently 20% of the population are owning EVs. Test his claim with an alpha =0.05 if out of a random sample of 30 two-wheeler owners only 5 own an EV."
   ]
  },
  {
   "cell_type": "code",
   "execution_count": 32,
   "id": "0001be38",
   "metadata": {},
   "outputs": [],
   "source": [
    "alpha = 0.05\n",
    "n = 30\n",
    "p = 5/30\n",
    "q = 1-p"
   ]
  },
  {
   "cell_type": "code",
   "execution_count": 33,
   "id": "0c7441f0",
   "metadata": {},
   "outputs": [
    {
     "name": "stdout",
     "output_type": "stream",
     "text": [
      "z: -0.49\n",
      "z_critical 1.96\n"
     ]
    }
   ],
   "source": [
    "# 1. State the Hypotheses\n",
    "# Ho: p = 0.20 Ha: p <> 0.20\n",
    "\n",
    "# 2. Decision Criteria\n",
    "# Two tail test\n",
    "z_critical = stats.norm.isf(alpha/2)\n",
    "\n",
    "# 3. Compute the sample statisic\n",
    "num = p - 0.20\n",
    "denom = np.sqrt(p*q/n)\n",
    "z = num/denom\n",
    "\n",
    "print('z:',round(z,2))\n",
    "print('z_critical',round(z_critical,2))"
   ]
  },
  {
   "cell_type": "code",
   "execution_count": 34,
   "id": "fc37affe",
   "metadata": {},
   "outputs": [],
   "source": [
    "# 4. Critical value method\n",
    "# z is greater than z critical. It lies in the safe zone. We do not reject the null hypothesis."
   ]
  },
  {
   "cell_type": "code",
   "execution_count": 35,
   "id": "98582a6e",
   "metadata": {},
   "outputs": [
    {
     "name": "stdout",
     "output_type": "stream",
     "text": [
      "Pvalue: 0.62\n",
      "Alpha: 0.05\n"
     ]
    }
   ],
   "source": [
    "# 5. Pvalue method\n",
    "Pvalue = 2*(stats.norm.cdf(z))\n",
    "\n",
    "print('Pvalue:',round(Pvalue,2))\n",
    "print('Alpha:',alpha)"
   ]
  },
  {
   "cell_type": "code",
   "execution_count": 36,
   "id": "76106d76",
   "metadata": {},
   "outputs": [],
   "source": [
    "# Pvalue is greater than alpha. we donnot reject the null hypothesis."
   ]
  },
  {
   "cell_type": "raw",
   "id": "565315f9",
   "metadata": {},
   "source": [
    "Looking at the evidence we can conclude that researcher claims that currently 20% of the population are owning EVs is true."
   ]
  },
  {
   "cell_type": "markdown",
   "id": "e2b57e2c",
   "metadata": {},
   "source": [
    "### Q20. Assume you are working for a Consumer Protection Agency that looks at complaints raised by customers for the transportation industry. Say you have been receiving complaints about the mileage of the latest EV launched by the Zen Automotives. Zen allows you to test randomly 40 of its new EVs to test mileage. Zen claims that the new EVs get a mileage of 96 kmpl on the highway. Your results show a mean of 91.3 kmpl and a standard deviation of 14.4.\n",
    "* a. Show why you support Zen’s claim using the P-value obtained.\n",
    "* b. After more complaints you decide to test the variability of the mileage on the highway. On questioning Zen’s quality control engineer , you find that they are claiming a standard deviation of 7.2. Test the claim about the standard deviation. [Hint :use the Chi-square test for variance/standard deviation]\n",
    "* c. Write a summary of results and the action that Zen must take to remedy the complaints.\n",
    "* d. What is your position on performing the test for variability along with the test for means?"
   ]
  },
  {
   "cell_type": "code",
   "execution_count": 58,
   "id": "4e538b3c",
   "metadata": {},
   "outputs": [
    {
     "name": "stdout",
     "output_type": "stream",
     "text": [
      "z_critical: 1.9599639845400545\n",
      "z: -2.0642645837210267\n"
     ]
    }
   ],
   "source": [
    "# a\n",
    "\n",
    "avg = 91.3\n",
    "std = 14.4\n",
    "alpha = 0.05\n",
    "n=40\n",
    "# Ho:mu=96    Ha: mu<> 96\n",
    "\n",
    "#  Decision Criteria\n",
    "# Two Tail Test\n",
    "z_critical = stats.norm.isf(alpha/2)\n",
    "\n",
    "# Critical value method\n",
    "num = avg-96\n",
    "denom = std/np.sqrt(40)\n",
    "z = num/denom\n",
    "\n",
    "print('z_critical:',z_critical)\n",
    "print('z:',z)"
   ]
  },
  {
   "cell_type": "code",
   "execution_count": 59,
   "id": "84750f9f",
   "metadata": {},
   "outputs": [
    {
     "name": "stdout",
     "output_type": "stream",
     "text": [
      "Pvalue: 0.03899263702552719\n",
      "Alpha: 0.05\n"
     ]
    }
   ],
   "source": [
    "# Pvalue method\n",
    "pvalue = 2*stats.norm.cdf(z)\n",
    "\n",
    "print('Pvalue:',pvalue)\n",
    "print('Alpha:',alpha)"
   ]
  },
  {
   "cell_type": "markdown",
   "id": "48d7351e",
   "metadata": {},
   "source": [
    "* As the Z critical is greater than z statistic. It fall in the rejection zone. We reject the null hypothesis.\n",
    "* Pvalue is less than alpha. We reject the null hypothesis\n",
    "* From the evidence we can conclude than the claim of the company that their mileage is 96 may be false."
   ]
  },
  {
   "cell_type": "code",
   "execution_count": 65,
   "id": "f4bb9f21",
   "metadata": {},
   "outputs": [
    {
     "name": "stdout",
     "output_type": "stream",
     "text": [
      "Chi_2_Critical: 54.57222775894174\n",
      "chi2_statistic: 9.75\n",
      "Pvalue: 1.999999039407618\n",
      "Alpha: 0.05\n"
     ]
    }
   ],
   "source": [
    "# b\n",
    "s = 7.2\n",
    "std = 14.4\n",
    "n = 40\n",
    "alpha=0.05\n",
    "# Ho: std=7.2  Ha: std<>7.2\n",
    "\n",
    "# Decision Criteria\n",
    "\n",
    "chi_2_critical = stats.chi2.isf(alpha,df=n-1)\n",
    "\n",
    "# Critical value method\n",
    "num = (n-1)*(s**2)\n",
    "denom = std**2\n",
    "chi2_statistic = num/denom\n",
    "\n",
    "# pvalue method\n",
    "pvalue = 2*stats.chi2.sf(chi2_statistic,df=n-1)\n",
    "\n",
    "print('Chi_2_Critical:',chi_2_critical)\n",
    "print('chi2_statistic:',chi2_statistic)\n",
    "print('Pvalue:',pvalue)\n",
    "print('Alpha:',alpha)"
   ]
  },
  {
   "cell_type": "markdown",
   "id": "8383ac64",
   "metadata": {},
   "source": [
    "* Chi2 statistic is smaller tha chi2 critical. It fall in safe zone. We fail to reject the null hypothesis\n",
    "* Pvalue is greater than alpha. We fail to reject null hypothesis\n",
    "* From the evidence we can conclude than the company's claim can be true."
   ]
  },
  {
   "cell_type": "markdown",
   "id": "fc97768e",
   "metadata": {},
   "source": [
    "------------------------------------------x----------------------------------x----------------------------------------x------------------------------------x--------------------------------------"
   ]
  },
  {
   "cell_type": "markdown",
   "id": "7814e04e",
   "metadata": {},
   "source": [
    "* Descriptive analytics is the process of analysing historical data to better understand the changes that have occurred in a business. Descriptive analytics can help to identify the areas of strength and weakness in an organization. Examples of metrics used in descriptive analytics include year-over-year pricing changes, month-over-month sales growth, the number of users, or the total revenue per subscriber.\n",
    "\n",
    "* In its simplest form, descriptive analytics answers the question, \"What happened?\" Descriptive analytics uses central tendencies, distribution of the data and measure of dispersions to answer \"What happened?\"\n",
    "\n",
    "* On the other hand, the goal of inferential analytics is to provide measurements that can describe the overall population of a research project by studying a smaller sample of it. Inferential statistics enables one to make descriptions of data and draw inferences and conclusions from the respective data.\n",
    "\n",
    "* In the above solved questions, question 1 to 13 relates to descriptive analysis and in the rest, we are employing inferential statistics to draw conclusions."
   ]
  }
 ],
 "metadata": {
  "kernelspec": {
   "display_name": "Python 3 (ipykernel)",
   "language": "python",
   "name": "python3"
  },
  "language_info": {
   "codemirror_mode": {
    "name": "ipython",
    "version": 3
   },
   "file_extension": ".py",
   "mimetype": "text/x-python",
   "name": "python",
   "nbconvert_exporter": "python",
   "pygments_lexer": "ipython3",
   "version": "3.9.12"
  }
 },
 "nbformat": 4,
 "nbformat_minor": 5
}
